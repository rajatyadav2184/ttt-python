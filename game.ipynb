{
 "cells": [
  {
   "cell_type": "code",
   "execution_count": 29,
   "metadata": {},
   "outputs": [
    {
     "name": "stdout",
     "output_type": "stream",
     "text": [
      "player 1 move\n",
      "[0, 0, 0]\n",
      "[0, 0, 0]\n",
      "[0, 0, 0]\n",
      "[0, 0, 0]\n",
      "[0, 1, 0]\n",
      "[0, 0, 0]\n",
      "player -1 move\n",
      "[0, 0, 0]\n",
      "[0, 1, 0]\n",
      "[0, 0, 0]\n",
      "error\n",
      "error\n",
      "[0, 0, 0]\n",
      "[0, 1, -1]\n",
      "[0, 0, 0]\n",
      "player 1 move\n",
      "[0, 0, 0]\n",
      "[0, 1, -1]\n",
      "[0, 0, 0]\n",
      "[0, 0, 0]\n",
      "[0, 1, -1]\n",
      "[0, 1, 0]\n",
      "player -1 move\n",
      "[0, 0, 0]\n",
      "[0, 1, -1]\n",
      "[0, 1, 0]\n"
     ]
    },
    {
     "ename": "ValueError",
     "evalue": "invalid literal for int() with base 10: ''",
     "output_type": "error",
     "traceback": [
      "\u001b[1;31m---------------------------------------------------------------------------\u001b[0m",
      "\u001b[1;31mValueError\u001b[0m                                Traceback (most recent call last)",
      "\u001b[1;32mc:\\Users\\spart\\OneDrive\\Documents\\tic-tac-toe\\game.ipynb Cell 1\u001b[0m in \u001b[0;36m<cell line: 63>\u001b[1;34m()\u001b[0m\n\u001b[0;32m     <a href='vscode-notebook-cell:/c%3A/Users/spart/OneDrive/Documents/tic-tac-toe/game.ipynb#W0sZmlsZQ%3D%3D?line=59'>60</a>\u001b[0m         player \u001b[39m=\u001b[39m \u001b[39m-\u001b[39mplayer\n\u001b[0;32m     <a href='vscode-notebook-cell:/c%3A/Users/spart/OneDrive/Documents/tic-tac-toe/game.ipynb#W0sZmlsZQ%3D%3D?line=60'>61</a>\u001b[0m         board \u001b[39m=\u001b[39m new_board\n\u001b[1;32m---> <a href='vscode-notebook-cell:/c%3A/Users/spart/OneDrive/Documents/tic-tac-toe/game.ipynb#W0sZmlsZQ%3D%3D?line=62'>63</a>\u001b[0m play()\n",
      "\u001b[1;32mc:\\Users\\spart\\OneDrive\\Documents\\tic-tac-toe\\game.ipynb Cell 1\u001b[0m in \u001b[0;36mplay\u001b[1;34m()\u001b[0m\n\u001b[0;32m     <a href='vscode-notebook-cell:/c%3A/Users/spart/OneDrive/Documents/tic-tac-toe/game.ipynb#W0sZmlsZQ%3D%3D?line=44'>45</a>\u001b[0m     \u001b[39mprint\u001b[39m(\u001b[39m\"\u001b[39m\u001b[39mplayer -1 move\u001b[39m\u001b[39m\"\u001b[39m)\n\u001b[0;32m     <a href='vscode-notebook-cell:/c%3A/Users/spart/OneDrive/Documents/tic-tac-toe/game.ipynb#W0sZmlsZQ%3D%3D?line=46'>47</a>\u001b[0m print_board(board)\n\u001b[1;32m---> <a href='vscode-notebook-cell:/c%3A/Users/spart/OneDrive/Documents/tic-tac-toe/game.ipynb#W0sZmlsZQ%3D%3D?line=47'>48</a>\u001b[0m move \u001b[39m=\u001b[39m make_move(board)\n\u001b[0;32m     <a href='vscode-notebook-cell:/c%3A/Users/spart/OneDrive/Documents/tic-tac-toe/game.ipynb#W0sZmlsZQ%3D%3D?line=48'>49</a>\u001b[0m new_board \u001b[39m=\u001b[39m update_board(board, move, player)\n\u001b[0;32m     <a href='vscode-notebook-cell:/c%3A/Users/spart/OneDrive/Documents/tic-tac-toe/game.ipynb#W0sZmlsZQ%3D%3D?line=49'>50</a>\u001b[0m print_board(new_board)\n",
      "\u001b[1;32mc:\\Users\\spart\\OneDrive\\Documents\\tic-tac-toe\\game.ipynb Cell 1\u001b[0m in \u001b[0;36mmake_move\u001b[1;34m(b)\u001b[0m\n\u001b[0;32m      <a href='vscode-notebook-cell:/c%3A/Users/spart/OneDrive/Documents/tic-tac-toe/game.ipynb#W0sZmlsZQ%3D%3D?line=0'>1</a>\u001b[0m \u001b[39mdef\u001b[39;00m \u001b[39mmake_move\u001b[39m(b):\n\u001b[0;32m      <a href='vscode-notebook-cell:/c%3A/Users/spart/OneDrive/Documents/tic-tac-toe/game.ipynb#W0sZmlsZQ%3D%3D?line=1'>2</a>\u001b[0m     s \u001b[39m=\u001b[39m \u001b[39minput\u001b[39m()\n\u001b[1;32m----> <a href='vscode-notebook-cell:/c%3A/Users/spart/OneDrive/Documents/tic-tac-toe/game.ipynb#W0sZmlsZQ%3D%3D?line=2'>3</a>\u001b[0m     a \u001b[39m=\u001b[39m \u001b[39mint\u001b[39;49m(s)\n\u001b[0;32m      <a href='vscode-notebook-cell:/c%3A/Users/spart/OneDrive/Documents/tic-tac-toe/game.ipynb#W0sZmlsZQ%3D%3D?line=3'>4</a>\u001b[0m     \u001b[39mif\u001b[39;00m b[a]\u001b[39m==\u001b[39m\u001b[39m0\u001b[39m:\n\u001b[0;32m      <a href='vscode-notebook-cell:/c%3A/Users/spart/OneDrive/Documents/tic-tac-toe/game.ipynb#W0sZmlsZQ%3D%3D?line=4'>5</a>\u001b[0m         \u001b[39mreturn\u001b[39;00m a\n",
      "\u001b[1;31mValueError\u001b[0m: invalid literal for int() with base 10: ''"
     ]
    }
   ],
   "source": [
    "\n",
    "def make_move(b):\n",
    "    s = input()\n",
    "    a = int(s)\n",
    "    if b[a]==0:\n",
    "        return a\n",
    "    else:\n",
    "        print(\"error\")\n",
    "        return make_move(b)\n",
    "\n",
    "def update_board(board,move,player):\n",
    "    board[move]=player\n",
    "    return board\n",
    "\n",
    "def print_board(b):\n",
    "    print(b[:3])\n",
    "    print(b[3:6])\n",
    "    print(b[6:9])\n",
    "    \n",
    "\n",
    "def check(board):\n",
    "    end_pos = [(0,1,2),\n",
    "               (3,4,5),\n",
    "               (6,7,8),\n",
    "               (0,3,6),\n",
    "               (1,4,7),\n",
    "               (2,5,8),\n",
    "               (0,4,8),\n",
    "               (2,4,6)]\n",
    "    for a,b,c in end_pos:\n",
    "        if board[a]==board[b]==board[c]==1:\n",
    "            return 1\n",
    "        if board[a]==board[b]==board[c]==-1:\n",
    "            return -1\n",
    "        if 0 not in board:\n",
    "            return 0\n",
    "\n",
    "\n",
    "def play():\n",
    "    board = [0]*9\n",
    "    player = 1\n",
    "    for _ in range(9):\n",
    "        if player==1:\n",
    "            print(\"player 1 move\")\n",
    "        else:\n",
    "            print(\"player -1 move\")\n",
    "\n",
    "        print_board(board)\n",
    "        move = make_move(board)\n",
    "        new_board = update_board(board, move, player)\n",
    "        print_board(new_board)\n",
    "        if check(new_board) == 1:\n",
    "            print(\"Player 1 won\")\n",
    "            break\n",
    "        if check(new_board) == -1:\n",
    "            print(\"Player -1 won\")\n",
    "            break\n",
    "        if check(new_board) == 0:\n",
    "            print(\"Draw\")\n",
    "            break\n",
    "        player = -player\n",
    "        board = new_board\n",
    "\n",
    "play()    "
   ]
  },
  {
   "cell_type": "code",
   "execution_count": null,
   "metadata": {},
   "outputs": [],
   "source": []
  },
  {
   "cell_type": "code",
   "execution_count": null,
   "metadata": {},
   "outputs": [],
   "source": []
  }
 ],
 "metadata": {
  "kernelspec": {
   "display_name": "Python 3.10.6 64-bit",
   "language": "python",
   "name": "python3"
  },
  "language_info": {
   "codemirror_mode": {
    "name": "ipython",
    "version": 3
   },
   "file_extension": ".py",
   "mimetype": "text/x-python",
   "name": "python",
   "nbconvert_exporter": "python",
   "pygments_lexer": "ipython3",
   "version": "3.10.6"
  },
  "orig_nbformat": 4,
  "vscode": {
   "interpreter": {
    "hash": "f418e71ec3563b75d2acea3e9e1285291f29f79f92166a38645489476b439602"
   }
  }
 },
 "nbformat": 4,
 "nbformat_minor": 2
}
